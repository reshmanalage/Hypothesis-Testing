{
 "cells": [
  {
   "cell_type": "markdown",
   "id": "7f31e485",
   "metadata": {},
   "source": [
    "# PYTHON PROGRAMMING ASSIGNMENT"
   ]
  },
  {
   "cell_type": "code",
   "execution_count": null,
   "id": "29ed1d9a",
   "metadata": {},
   "outputs": [],
   "source": [
    "'''Exercise 1: Prime Numbers\n",
    "Write a Python program that checks whether a given number is prime or not. A prime number is a natural \n",
    "number greater than 1 that has no positive divisors other than 1 and itself.\n",
    "'''"
   ]
  },
  {
   "cell_type": "code",
   "execution_count": 2,
   "id": "cc9082e9",
   "metadata": {},
   "outputs": [
    {
     "name": "stdout",
     "output_type": "stream",
     "text": [
      "11 is a prime number.\n"
     ]
    }
   ],
   "source": [
    "def is_prime(number):\n",
    "    # A prime number must be greater than 1\n",
    "    if number <= 1:\n",
    "        return False\n",
    "    \n",
    "    # Check for factors from 2 up to the square root of the number\n",
    "    for i in range(2, int(number ** 0.5) + 1):\n",
    "        if number % i == 0:\n",
    "            return False\n",
    "    \n",
    "    # If no factors were found, the number is prime\n",
    "    return True\n",
    "\n",
    "# Test the function with an example\n",
    "test_number = 11\n",
    "if is_prime(test_number):\n",
    "    print(f\"{test_number} is a prime number.\")\n",
    "else:\n",
    "    print(f\"{test_number} is not a prime number.\")\n"
   ]
  },
  {
   "cell_type": "code",
   "execution_count": null,
   "id": "08a0c593",
   "metadata": {},
   "outputs": [],
   "source": [
    "'''Exercise 2: Product of Random Numbers\n",
    "Develop a Python program that generates two random numbers and asks the user to enter the product of these numbers. \n",
    "The program should then check if the user's answer is correct and display an appropriate message.\n",
    "'''"
   ]
  },
  {
   "cell_type": "code",
   "execution_count": 3,
   "id": "4af9624f",
   "metadata": {
    "scrolled": true
   },
   "outputs": [
    {
     "name": "stdout",
     "output_type": "stream",
     "text": [
      "What is the product of 43 and 13?\n",
      "Enter your answer: 559\n",
      "Correct! Well done.\n"
     ]
    }
   ],
   "source": [
    "import random\n",
    "\n",
    "def generate_random_numbers():\n",
    "    num1 = random.randint(1, 100)\n",
    "    num2 = random.randint(1, 100)\n",
    "    return num1, num2\n",
    "\n",
    "def main():\n",
    "    num1, num2 = generate_random_numbers()\n",
    "    print(f\"What is the product of {num1} and {num2}?\")\n",
    "    user_answer = int(input(\"Enter your answer: \"))\n",
    "    \n",
    "    correct_answer = num1 * num2\n",
    "    if user_answer == correct_answer:\n",
    "        print(\"Correct! Well done.\")\n",
    "    else:\n",
    "        print(f\"Incorrect. The correct answer is {correct_answer}.\")\n",
    "\n",
    "if __name__ == \"__main__\":\n",
    "    main()\n"
   ]
  },
  {
   "cell_type": "code",
   "execution_count": null,
   "id": "2774e7bd",
   "metadata": {},
   "outputs": [],
   "source": [
    "'''Exercise 3: Squares of Even/Odd Numbers\n",
    "Create a Python script that prints the squares of all even or odd numbers within the range of 100 to 200. Choose either even or odd numbers and document your choice in the code.\n",
    "'''"
   ]
  },
  {
   "cell_type": "code",
   "execution_count": 5,
   "id": "e2d3f87d",
   "metadata": {},
   "outputs": [
    {
     "name": "stdout",
     "output_type": "stream",
     "text": [
      "The square of 100 is 10000\n",
      "The square of 102 is 10404\n",
      "The square of 104 is 10816\n",
      "The square of 106 is 11236\n",
      "The square of 108 is 11664\n",
      "The square of 110 is 12100\n",
      "The square of 112 is 12544\n",
      "The square of 114 is 12996\n",
      "The square of 116 is 13456\n",
      "The square of 118 is 13924\n",
      "The square of 120 is 14400\n",
      "The square of 122 is 14884\n",
      "The square of 124 is 15376\n",
      "The square of 126 is 15876\n",
      "The square of 128 is 16384\n",
      "The square of 130 is 16900\n",
      "The square of 132 is 17424\n",
      "The square of 134 is 17956\n",
      "The square of 136 is 18496\n",
      "The square of 138 is 19044\n",
      "The square of 140 is 19600\n",
      "The square of 142 is 20164\n",
      "The square of 144 is 20736\n",
      "The square of 146 is 21316\n",
      "The square of 148 is 21904\n",
      "The square of 150 is 22500\n",
      "The square of 152 is 23104\n",
      "The square of 154 is 23716\n",
      "The square of 156 is 24336\n",
      "The square of 158 is 24964\n",
      "The square of 160 is 25600\n",
      "The square of 162 is 26244\n",
      "The square of 164 is 26896\n",
      "The square of 166 is 27556\n",
      "The square of 168 is 28224\n",
      "The square of 170 is 28900\n",
      "The square of 172 is 29584\n",
      "The square of 174 is 30276\n",
      "The square of 176 is 30976\n",
      "The square of 178 is 31684\n",
      "The square of 180 is 32400\n",
      "The square of 182 is 33124\n",
      "The square of 184 is 33856\n",
      "The square of 186 is 34596\n",
      "The square of 188 is 35344\n",
      "The square of 190 is 36100\n",
      "The square of 192 is 36864\n",
      "The square of 194 is 37636\n",
      "The square of 196 is 38416\n",
      "The square of 198 is 39204\n",
      "The square of 200 is 40000\n"
     ]
    }
   ],
   "source": [
    "# Choice: We will calculate the squares of even numbers within the range of 100 to 200\n",
    "\n",
    "def squares_of_even_numbers(start, end):\n",
    "    # Iterate through the range\n",
    "    for number in range(start, end + 1):\n",
    "        # Check if the number is even\n",
    "        if number % 2 == 0:\n",
    "            # Calculate the square of the even number\n",
    "            square = number ** 2\n",
    "            # Print the result\n",
    "            print(f\"The square of {number} is {square}\")\n",
    "\n",
    "# Define the range\n",
    "start_range = 100\n",
    "end_range = 200\n",
    "\n",
    "# Call the function to print squares of even numbers in the given range\n",
    "squares_of_even_numbers(start_range, end_range)\n"
   ]
  },
  {
   "cell_type": "code",
   "execution_count": 6,
   "id": "7b799094",
   "metadata": {
    "scrolled": true
   },
   "outputs": [
    {
     "name": "stdout",
     "output_type": "stream",
     "text": [
      "The square of 101 is 10201\n",
      "The square of 103 is 10609\n",
      "The square of 105 is 11025\n",
      "The square of 107 is 11449\n",
      "The square of 109 is 11881\n",
      "The square of 111 is 12321\n",
      "The square of 113 is 12769\n",
      "The square of 115 is 13225\n",
      "The square of 117 is 13689\n",
      "The square of 119 is 14161\n",
      "The square of 121 is 14641\n",
      "The square of 123 is 15129\n",
      "The square of 125 is 15625\n",
      "The square of 127 is 16129\n",
      "The square of 129 is 16641\n",
      "The square of 131 is 17161\n",
      "The square of 133 is 17689\n",
      "The square of 135 is 18225\n",
      "The square of 137 is 18769\n",
      "The square of 139 is 19321\n",
      "The square of 141 is 19881\n",
      "The square of 143 is 20449\n",
      "The square of 145 is 21025\n",
      "The square of 147 is 21609\n",
      "The square of 149 is 22201\n",
      "The square of 151 is 22801\n",
      "The square of 153 is 23409\n",
      "The square of 155 is 24025\n",
      "The square of 157 is 24649\n",
      "The square of 159 is 25281\n",
      "The square of 161 is 25921\n",
      "The square of 163 is 26569\n",
      "The square of 165 is 27225\n",
      "The square of 167 is 27889\n",
      "The square of 169 is 28561\n",
      "The square of 171 is 29241\n",
      "The square of 173 is 29929\n",
      "The square of 175 is 30625\n",
      "The square of 177 is 31329\n",
      "The square of 179 is 32041\n",
      "The square of 181 is 32761\n",
      "The square of 183 is 33489\n",
      "The square of 185 is 34225\n",
      "The square of 187 is 34969\n",
      "The square of 189 is 35721\n",
      "The square of 191 is 36481\n",
      "The square of 193 is 37249\n",
      "The square of 195 is 38025\n",
      "The square of 197 is 38809\n",
      "The square of 199 is 39601\n"
     ]
    }
   ],
   "source": [
    "# Choice: We will calculate the squares of odd numbers within the range of 100 to 200\n",
    "\n",
    "def squares_of_odd_numbers(start, end):\n",
    "    # Iterate through the range\n",
    "    for number in range(start, end + 1):\n",
    "        # Check if the number is odd\n",
    "        if number % 2 != 0:\n",
    "            # Calculate the square of the odd number\n",
    "            square = number ** 2\n",
    "            # Print the result\n",
    "            print(f\"The square of {number} is {square}\")\n",
    "\n",
    "# Define the range\n",
    "start_range = 100\n",
    "end_range = 200\n",
    "\n",
    "# Call the function to print squares of odd numbers in the given range\n",
    "squares_of_odd_numbers(start_range, end_range)\n"
   ]
  },
  {
   "cell_type": "code",
   "execution_count": null,
   "id": "57850b01",
   "metadata": {},
   "outputs": [],
   "source": [
    "'''Exercise 4: Word counter\n",
    "write a program to count the number of words in a given text.\n",
    "example:\n",
    "input_text = \"This is a sample text. This text will be used to demonstrate the word counter.\"\n",
    "Expected output:\n",
    "'This': 2 \n",
    "'is': 1\n",
    "'a': 1\n",
    "'sample': 1\n",
    "'text.': 1\n",
    "'''"
   ]
  },
  {
   "cell_type": "code",
   "execution_count": 7,
   "id": "50533deb",
   "metadata": {
    "scrolled": true
   },
   "outputs": [
    {
     "name": "stdout",
     "output_type": "stream",
     "text": [
      "'This': 2\n",
      "'is': 1\n",
      "'a': 1\n",
      "'sample': 1\n",
      "'text.': 1\n",
      "'text': 1\n",
      "'will': 1\n",
      "'be': 1\n",
      "'used': 1\n",
      "'to': 1\n",
      "'demonstrate': 1\n",
      "'the': 1\n",
      "'word': 1\n",
      "'counter.': 1\n"
     ]
    }
   ],
   "source": [
    "def word_counter(text):\n",
    "    # Split the text into words\n",
    "    words = text.split()\n",
    "    \n",
    "    # Create a dictionary to store the word counts\n",
    "    word_counts = {}\n",
    "    \n",
    "    # Count the occurrences of each word\n",
    "    for word in words:\n",
    "        if word in word_counts:\n",
    "            word_counts[word] += 1\n",
    "        else:\n",
    "            word_counts[word] = 1\n",
    "    \n",
    "    # Print the word counts\n",
    "    for word, count in word_counts.items():\n",
    "        print(f\"'{word}': {count}\")\n",
    "\n",
    "# Example input text\n",
    "input_text = \"This is a sample text. This text will be used to demonstrate the word counter.\"\n",
    "\n",
    "# Call the function with the example text\n",
    "word_counter(input_text)\n"
   ]
  },
  {
   "cell_type": "code",
   "execution_count": null,
   "id": "15155575",
   "metadata": {},
   "outputs": [],
   "source": [
    "'''Exercise 5: Check for Palindrome\n",
    "Write a Python function called is_palindrome that takes a string as input and returns True if the string is a palindrome, and False otherwise. A palindrome is a word, phrase, number, or other sequence of characters that reads the same forward and backward, ignoring spaces, punctuation, and capitalization.\n",
    "Example:\n",
    "Input: \"racecar\"\n",
    "Expected Output: True\n",
    "'''"
   ]
  },
  {
   "cell_type": "code",
   "execution_count": 8,
   "id": "aa5fbb8e",
   "metadata": {},
   "outputs": [
    {
     "name": "stdout",
     "output_type": "stream",
     "text": [
      "True\n",
      "True\n",
      "False\n"
     ]
    }
   ],
   "source": [
    "import re\n",
    "\n",
    "def is_palindrome(input_string):\n",
    "    # Remove non-alphanumeric characters and convert to lowercase\n",
    "    cleaned_string = re.sub(r'[^a-zA-Z0-9]', '', input_string).lower()\n",
    "    \n",
    "    # Check if the cleaned string is equal to its reverse\n",
    "    return cleaned_string == cleaned_string[::-1]\n",
    "\n",
    "# Example usage\n",
    "example_input = \"racecar\"\n",
    "print(is_palindrome(example_input))  # Expected output: True\n",
    "\n",
    "# Additional examples\n",
    "print(is_palindrome(\"A man, a plan, a canal, Panama\"))  # Expected output: True\n",
    "print(is_palindrome(\"Hello, World!\"))  # Expected output: False\n"
   ]
  },
  {
   "cell_type": "code",
   "execution_count": null,
   "id": "e2031b19",
   "metadata": {},
   "outputs": [],
   "source": []
  }
 ],
 "metadata": {
  "kernelspec": {
   "display_name": "Python 3 (ipykernel)",
   "language": "python",
   "name": "python3"
  },
  "language_info": {
   "codemirror_mode": {
    "name": "ipython",
    "version": 3
   },
   "file_extension": ".py",
   "mimetype": "text/x-python",
   "name": "python",
   "nbconvert_exporter": "python",
   "pygments_lexer": "ipython3",
   "version": "3.11.5"
  }
 },
 "nbformat": 4,
 "nbformat_minor": 5
}
